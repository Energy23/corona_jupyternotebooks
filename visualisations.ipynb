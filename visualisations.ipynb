{
 "cells": [
  {
   "cell_type": "markdown",
   "metadata": {},
   "source": [
    "# Erste Schritte\n",
    "+ Nbstriput sollte initialisiert werden, damit beim commit die Metadaten extrahiert werden. Dafür einfach in der nächsten Zelle den Befehl auskommentieren\n",
    "+ In dem Ordner Data liegen die aktuellen Daten der John Hopkins CSSE zum 2019-nCoV, diese wurden als submodul initialisiert, dafür der entsprechenden Zelle den Befehl aktivieren\n",
    "+ In der 3. Zelle werden die aktuellen Daten aus dem John Hopkins Repo gepullt "
   ]
  },
  {
   "cell_type": "code",
   "execution_count": null,
   "metadata": {},
   "outputs": [],
   "source": [
    "# Nbstripout installieren\n",
    "# !cd ~/corona_jupyternotebooks && nbstripout --install"
   ]
  },
  {
   "cell_type": "code",
   "execution_count": null,
   "metadata": {},
   "outputs": [],
   "source": [
    "# Initialisieren des GIT submoduls\n",
    "# !cd ~/corona_jupyternotebooks/COVID-19 && git submodule init && git submodule update"
   ]
  },
  {
   "cell_type": "code",
   "execution_count": null,
   "metadata": {},
   "outputs": [],
   "source": [
    "# Update Data\n",
    "!cd ~/corona/Data && git pull"
   ]
  },
  {
   "cell_type": "code",
   "execution_count": null,
   "metadata": {},
   "outputs": [],
   "source": [
    "# Imports\n",
    "import os\n",
    "import glob\n",
    "import math\n",
    "import pandas as pd\n",
    "import numpy as np\n",
    "# Libraries for visualization\n",
    "import cufflinks as cf\n",
    "from ipywidgets import interactive\n",
    "cf.go_offline()\n",
    "cf.set_config_file(offline=False, world_readable=True)"
   ]
  },
  {
   "cell_type": "markdown",
   "metadata": {},
   "source": [
    "# Read data from John Hopkins into a dataframe\n",
    "For better visualization it is helpful to build a new dataframe, because e.g. France sorts colonies like Guadeloupe to France with naturally much smaller numbers.\n",
    "In addition, a clean dataframe helps with further data-moves"
   ]
  },
  {
   "cell_type": "code",
   "execution_count": null,
   "metadata": {},
   "outputs": [],
   "source": [
    "#countries = ['Germany','FranceFrance','UK','Austria','Switzerland','Netherlands','Belgium','Ireland','Spain','Greece','Portugal''Sweden','Denmark','Finland','Norway','Poland','Ukraine','Romania','Hungary']\n",
    "countries = ['Germany', 'Italy', 'US', 'France', 'United Kingdom', 'Netherlands', 'Spain']\n",
    "colony = ['France', 'United Kingdom', 'Australia', 'Netherlands']\n",
    "df_time = pd.read_csv('COVID-19/csse_covid_19_data/csse_covid_19_time_series/time_series_covid19_confirmed_global.csv', sep=',') \n",
    "\n",
    "pd.to_datetime(df_time.columns[4:], dayfirst=True)\n",
    "\n",
    "df_series_filter = df_time.drop(['Lat', 'Long'], 1)\n",
    "\n",
    "df_cleaned = pd.DataFrame()\n",
    "for c in countries:\n",
    "    if any(c in col for col in colony):\n",
    "        df_temp = df_series_filter[df_series_filter['Country/Region']==c]\n",
    "        df_temp = df_temp[df_temp['Province/State'].isnull()].transpose()[2:]\n",
    "        df_temp.columns = [c]\n",
    "        temp = df_temp.loc[:, c]\n",
    "        df_cleaned[c]=temp\n",
    "        \n",
    "    else:\n",
    "        df_temp = df_series_filter[df_series_filter['Country/Region']==c].transpose()[2:]\n",
    "        df_temp.columns = [c]\n",
    "        temp = df_temp.loc[:, c]\n",
    "        df_cleaned[c]=temp\n",
    "df_cleaned"
   ]
  },
  {
   "cell_type": "markdown",
   "metadata": {},
   "source": [
    "# Visualization of infected persons in absolute values"
   ]
  },
  {
   "cell_type": "code",
   "execution_count": null,
   "metadata": {},
   "outputs": [],
   "source": [
    "# modify n for shifted start date\n",
    "n=0\n",
    "df_cleaned.iloc[n:].iplot()"
   ]
  },
  {
   "cell_type": "markdown",
   "metadata": {},
   "source": [
    "# Decadic logarithm visualisation"
   ]
  },
  {
   "cell_type": "code",
   "execution_count": null,
   "metadata": {},
   "outputs": [],
   "source": [
    "clean_log10 = df_cleaned.copy()\n",
    "# modify n for shifted start date\n",
    "n=0\n",
    "for c in countries:\n",
    "    clean_log10[c]=clean_log10[c].apply(lambda x: math.log10(x) if x != 0 else 0)\n",
    "clean_log10.iplot()"
   ]
  },
  {
   "cell_type": "markdown",
   "metadata": {},
   "source": [
    "# New infections compared to the previous day"
   ]
  },
  {
   "cell_type": "code",
   "execution_count": null,
   "metadata": {},
   "outputs": [],
   "source": [
    "growth = clean.copy()\n",
    "# modify n for shifted start date\n",
    "n=0\n",
    "for c in countries:    \n",
    "    growth.loc[:,c].size\n",
    "    for i in range(growth.loc[:,c].size-1):\n",
    "        #print(i)\n",
    "        growth.loc[:,c][i+1]=clean.loc[:,c][i+1]-clean.loc[:,c][i]\n",
    "growth.iloc[n:].iplot()"
   ]
  },
  {
   "cell_type": "markdown",
   "metadata": {},
   "source": [
    "# Percentage of infected persons in the total population"
   ]
  },
  {
   "cell_type": "code",
   "execution_count": null,
   "metadata": {},
   "outputs": [],
   "source": [
    "# Data from 2017\n",
    "population = {\n",
    "    'Germany': 82114224,\n",
    "    'Italy': 59359900,\n",
    "    'US': 327200000,\n",
    "    'France': 64979548,\n",
    "    'Spain': 46354321,\n",
    "    'United Kingdom': 66181585,\n",
    "    'Netherlands': 17035938\n",
    "}\n",
    "df_percentage = df_cleaned.copy()\n",
    "\n",
    "for c in countries:\n",
    "    df_percentage[c]=df_percentage[c].apply(lambda x: x/population[c] if x != 0 else 0)\n",
    "df_percentage.iplot"
   ]
  }
 ],
 "metadata": {
  "kernelspec": {
   "display_name": "Python 3",
   "language": "python",
   "name": "python3"
  },
  "language_info": {
   "codemirror_mode": {
    "name": "ipython",
    "version": 3
   },
   "file_extension": ".py",
   "mimetype": "text/x-python",
   "name": "python",
   "nbconvert_exporter": "python",
   "pygments_lexer": "ipython3",
   "version": "3.6.7"
  }
 },
 "nbformat": 4,
 "nbformat_minor": 4
}
