{
 "cells": [
  {
   "cell_type": "markdown",
   "metadata": {},
   "source": [
    "# First Steps\n",
    "+ Nbstriput should be initialized to extract the metadata on commit. Just comment out the command in the next cell (NBStripout is only requiered if you want to commit, push changes)\n",
    "+ The folder COVID-19 contains the current data of the John Hopkins CSSE for the 2019-nCoV, these were initialized as submodule, therefore activate the command for the corresponding cell\n",
    "+ In the 3rd cell the current data from the John Hopkins Repo is pulled "
   ]
  },
  {
   "cell_type": "code",
   "execution_count": null,
   "metadata": {
    "scrolled": true
   },
   "outputs": [],
   "source": [
    "# Nbstripout installieren\n",
    "#!cd ~/corona_jupyternotebooks && nbstripout --install"
   ]
  },
  {
   "cell_type": "markdown",
   "metadata": {},
   "source": [
    "# Initialize submodule\n",
    "**Important** You have to do this only the first time you run this notebook, otherwise comment out, not necessary but faster ;-)"
   ]
  },
  {
   "cell_type": "code",
   "execution_count": null,
   "metadata": {
    "hide_input": false,
    "scrolled": true
   },
   "outputs": [],
   "source": [
    "# Initialisieren des GIT submoduls\n",
    "!cd ~/corona_jupyternotebooks/COVID-19 && git submodule init && git submodule update"
   ]
  },
  {
   "cell_type": "code",
   "execution_count": null,
   "metadata": {
    "scrolled": true
   },
   "outputs": [],
   "source": [
    "# Update Data\n",
    "!cd ~/corona_jupyternotebooks/COVID-19 && git checkout master && git pull"
   ]
  },
  {
   "cell_type": "code",
   "execution_count": null,
   "metadata": {
    "scrolled": true
   },
   "outputs": [],
   "source": [
    "# Imports\n",
    "import os\n",
    "import glob\n",
    "import math\n",
    "import pandas as pd\n",
    "import numpy as np\n",
    "# Libraries for visualization\n",
    "import cufflinks as cf\n",
    "import ipywidgets\n",
    "cf.go_offline()\n",
    "cf.set_config_file(offline=False, world_readable=True)\n",
    "from ipywidgets import interact, interact_manual\n",
    "from IPython.display import Javascript\n",
    "import datetime"
   ]
  },
  {
   "cell_type": "markdown",
   "metadata": {},
   "source": [
    "# Read data from John Hopkins into a dataframe\n",
    "For better visualization it is helpful to build a new dataframe, because e.g. political territory outside the EU is assigned to the administering states with naturally much smaller numbers.\n",
    "In addition, a clean dataframe helps with further data-moves"
   ]
  },
  {
   "cell_type": "code",
   "execution_count": null,
   "metadata": {
    "scrolled": true
   },
   "outputs": [],
   "source": [
    "# UK is part of it, after all it was once EU\n",
    "eu_countries = ['Austria', 'Belgium', 'Bulgaria', 'Croatia', 'Cyprus', 'Czechia', 'Denmark', 'Estonia', \n",
    "                'Finland', 'France', 'Germany', 'Greece', 'Hungary', 'Ireland', 'Italy', 'Latvia', 'Lithuania', 'Luxembourg', \n",
    "                'Malta', 'Netherlands', 'Poland', 'Portugal', 'Romania', 'Slovakia', 'Slovenia', 'Spain', 'Sweden']\n",
    "#Check the file COVID-19/csse_covid_19_data/csse_covid_19_time_series/time_series_covid19_confirmed_global.csv for more countries\n",
    "non_eu_countries = ['US', 'New Zealand']\n",
    "countries = eu_countries + non_eu_countries\n",
    "selected = ipywidgets.SelectMultiple(\n",
    "    options=countries,\n",
    "    value=['Germany'],\n",
    "    rows=20,\n",
    "    description='Countries',\n",
    "    disabled=False\n",
    ")\n",
    "print('Select countries to work with. Holding Strg let you select multiple')\n",
    "display(selected)"
   ]
  },
  {
   "cell_type": "code",
   "execution_count": null,
   "metadata": {
    "scrolled": true
   },
   "outputs": [],
   "source": [
    "#countries = selected.value\n",
    "adm_states = ['France', 'United Kingdom', 'Australia', 'Netherlands', 'Denmark']\n",
    "df_time = pd.read_csv('COVID-19/csse_covid_19_data/csse_covid_19_time_series/time_series_covid19_confirmed_global.csv', sep=',') \n",
    "\n",
    "pd.to_datetime(df_time.columns[4:], dayfirst=True)\n",
    "\n",
    "df_series_filter = df_time.drop(['Lat', 'Long'], 1)\n",
    "\n",
    "df_cleaned = pd.DataFrame()\n",
    "def update():\n",
    "    countries = selected.value\n",
    "    for c in countries:\n",
    "        if any(c in col for col in adm_states):\n",
    "            df_temp = df_series_filter[df_series_filter['Country/Region']==c]\n",
    "            df_temp = df_temp[df_temp['Province/State'].isnull()].transpose()[2:]\n",
    "            df_temp.columns = [c]\n",
    "            temp = df_temp.loc[:, c]\n",
    "            df_cleaned[c]=temp\n",
    "\n",
    "        else:\n",
    "            df_temp = df_series_filter[df_series_filter['Country/Region']==c].transpose()[2:]\n",
    "            df_temp.columns = [c]\n",
    "            temp = df_temp.loc[:, c]\n",
    "            df_cleaned[c]=temp\n",
    "    df_cleaned\n",
    "update()"
   ]
  },
  {
   "cell_type": "markdown",
   "metadata": {},
   "source": [
    "# Visualization of infected persons in absolute values\n",
    "**Starting date is 1/22/2020 (Day of first datapoint)**"
   ]
  },
  {
   "cell_type": "code",
   "execution_count": null,
   "metadata": {
    "scrolled": true
   },
   "outputs": [],
   "source": [
    "start = ipywidgets.DatePicker(\n",
    "    description='From',\n",
    "    disabled=False,\n",
    "    value=datetime.datetime(2020, 1, 22)\n",
    ")\n",
    "end = ipywidgets.DatePicker(\n",
    "    description='Until',\n",
    "    disabled=False,\n",
    "    value=datetime.datetime.now()\n",
    ")\n",
    "\n",
    "def infected_persons(s,e):\n",
    "    start_date = pd.to_datetime(start.value)\n",
    "    end_date = pd.to_datetime(end.value)\n",
    "    df_cleaned.index= pd.to_datetime(df_cleaned.index)\n",
    "    mask = ((df_cleaned.index >= start_date) & (df_cleaned.index <= end_date))\n",
    "    print(df_cleaned.loc[mask])\n",
    "    return df_cleaned.loc[mask].iplot()\n",
    "interact(infected_persons, s=start, e=end)"
   ]
  },
  {
   "cell_type": "markdown",
   "metadata": {},
   "source": [
    "# Decadic logarithm visualisation"
   ]
  },
  {
   "cell_type": "code",
   "execution_count": null,
   "metadata": {
    "scrolled": true
   },
   "outputs": [],
   "source": [
    "start = ipywidgets.DatePicker(\n",
    "    description='From',\n",
    "    disabled=False,\n",
    "    value=datetime.datetime(2020, 1, 22)\n",
    ")\n",
    "end = ipywidgets.DatePicker(\n",
    "    description='Until',\n",
    "    disabled=False,\n",
    "    value=datetime.datetime.now()\n",
    ")\n",
    "\n",
    "clean_log10 = df_cleaned.copy()\n",
    "\n",
    "for c in clean_log10.columns:\n",
    "    clean_log10[c]=clean_log10[c].apply(lambda x: math.log10(x) if x != 0 else 0)\n",
    "\n",
    "def infected_persons(s,e):\n",
    "    start_date = pd.to_datetime(start.value)\n",
    "    end_date = pd.to_datetime(end.value)\n",
    "    clean_log10.index= pd.to_datetime(clean_log10.index)\n",
    "    mask = ((clean_log10.index >= start_date) & (clean_log10.index <= end_date))\n",
    "    return clean_log10.loc[mask].iplot()\n",
    "interact(infected_persons, s=start, e=end)"
   ]
  },
  {
   "cell_type": "markdown",
   "metadata": {},
   "source": [
    "# New infections compared to the previous day\n",
    "**With 0 reports, next chapter filtering it out**"
   ]
  },
  {
   "cell_type": "code",
   "execution_count": null,
   "metadata": {
    "scrolled": false
   },
   "outputs": [],
   "source": [
    "start = ipywidgets.DatePicker(\n",
    "    description='From',\n",
    "    disabled=False,\n",
    "    value=datetime.datetime(2020, 1, 22)\n",
    ")\n",
    "end = ipywidgets.DatePicker(\n",
    "    description='Until',\n",
    "    disabled=False,\n",
    "    value=datetime.datetime.now()\n",
    ")\n",
    "\n",
    "growth = df_cleaned.copy()\n",
    "\n",
    "# pull out incorrect data, for example spain reported less total infected persons in 2 following days\n",
    "for c in growth.columns:   \n",
    "    growth.loc[:,c].size\n",
    "    for i in range(growth.loc[:,c].size-1):\n",
    "        if(df_cleaned.loc[:,c][i+1]<df_cleaned.loc[:,c][i]):\n",
    "            df_cleaned.loc[:,c][i+1]=df_cleaned.loc[:,c][i]\n",
    "        growth.loc[:,c][i+1]=df_cleaned.loc[:,c][i+1]-df_cleaned.loc[:,c][i]\n",
    "              \n",
    "def new_infections(s,e):\n",
    "    start_date = pd.to_datetime(start.value)\n",
    "    end_date = pd.to_datetime(end.value)\n",
    "    growth.index= pd.to_datetime(clean_log10.index)\n",
    "    mask = ((growth.index >= start_date) & (growth.index <= end_date))\n",
    "    return growth.loc[mask].iplot()\n",
    "interact(new_infections, s=start, e=end)"
   ]
  },
  {
   "cell_type": "markdown",
   "metadata": {},
   "source": [
    "# 7-day incidence (absolute)"
   ]
  },
  {
   "cell_type": "code",
   "execution_count": null,
   "metadata": {
    "scrolled": false
   },
   "outputs": [],
   "source": [
    "start = ipywidgets.DatePicker(\n",
    "    description='From',\n",
    "    disabled=False,\n",
    "    value=datetime.datetime(2020, 1, 22)\n",
    ")\n",
    "end = ipywidgets.DatePicker(\n",
    "    description='Until',\n",
    "    disabled=False,\n",
    "    value=datetime.datetime.now()\n",
    ")\n",
    "\n",
    "growth = df_cleaned.copy()\n",
    "\n",
    "# pull out incorrect data, for example spain reported less total infected persons in 2 following days\n",
    "for c in growth.columns:   \n",
    "    growth.loc[:,c].size\n",
    "    for i in range(growth.loc[:,c].size):\n",
    "        if(i<growth.loc[:,c].size-1):\n",
    "            if(df_cleaned.loc[:,c][i+1]<df_cleaned.loc[:,c][i]):\n",
    "                df_cleaned.loc[:,c][i+1]=df_cleaned.loc[:,c][i]\n",
    "        if(i<=7):\n",
    "            growth.loc[:,c][i]=df_cleaned.loc[:,c][i]\n",
    "        else:\n",
    "            growth.loc[:,c][i]=df_cleaned.loc[:,c][i]-df_cleaned.loc[:,c][i-7]\n",
    "            \n",
    "def new_infections(s,e):\n",
    "    start_date = pd.to_datetime(start.value)\n",
    "    end_date = pd.to_datetime(end.value)\n",
    "    growth.index= pd.to_datetime(growth.index)\n",
    "    mask = ((growth.index >= start_date) & (growth.index <= end_date))\n",
    "    return growth.loc[mask].replace(0, np.nan).iplot()\n",
    "interact(new_infections, s=start, e=end)"
   ]
  },
  {
   "cell_type": "markdown",
   "metadata": {},
   "source": [
    "# 7-day incidence (per 100.000)\n"
   ]
  },
  {
   "cell_type": "code",
   "execution_count": null,
   "metadata": {
    "scrolled": true
   },
   "outputs": [],
   "source": [
    "# Import population data from population.json to dict\n",
    "import json \n",
    "population = {}\n",
    "with open('population.json') as json_file: \n",
    "    data = json.load(json_file)\n",
    "for c in data:\n",
    "    population[c['country']] = int(c['population'])\n",
    "\n",
    "start = ipywidgets.DatePicker(\n",
    "    description='From',\n",
    "    disabled=False,\n",
    "    value=datetime.datetime(2020, 1, 22)\n",
    ")\n",
    "end = ipywidgets.DatePicker(\n",
    "    description='Until',\n",
    "    disabled=False,\n",
    "    value=datetime.datetime.now()\n",
    ")\n",
    "\n",
    "growth = df_cleaned.copy()\n",
    "\n",
    "# pull out incorrect data, for example spain reported less total infected persons in 2 following days\n",
    "for c in growth.columns:   \n",
    "    growth.loc[:,c].size\n",
    "    for i in range(growth.loc[:,c].size):\n",
    "        if(i<growth.loc[:,c].size-1):\n",
    "            if(df_cleaned.loc[:,c][i+1]<df_cleaned.loc[:,c][i]):\n",
    "                df_cleaned.loc[:,c][i+1]=df_cleaned.loc[:,c][i]\n",
    "        if(i<=7):\n",
    "            growth.loc[:,c][i]=df_cleaned.loc[:,c][i]\n",
    "        else:\n",
    "            growth.loc[:,c][i]=df_cleaned.loc[:,c][i]-df_cleaned.loc[:,c][i-7]\n",
    "\n",
    "for c in growth.columns:\n",
    "    growth[c]=growth[c].apply(lambda x: x*100000/population[c] if x != 0 else 0)\n",
    "\n",
    "            \n",
    "def new_infections(s,e):\n",
    "    start_date = pd.to_datetime(start.value)\n",
    "    end_date = pd.to_datetime(end.value)\n",
    "    growth.index= pd.to_datetime(growth.index)\n",
    "    mask = ((growth.index >= start_date) & (growth.index <= end_date))\n",
    "    return growth.loc[mask].replace(0, np.nan).iplot()\n",
    "interact(new_infections, s=start, e=end)"
   ]
  },
  {
   "cell_type": "markdown",
   "metadata": {},
   "source": [
    "# Percentage of infected persons in the total population\n",
    "**IMPORTANT** Population Data is a little bit old (2016)"
   ]
  },
  {
   "cell_type": "code",
   "execution_count": null,
   "metadata": {
    "scrolled": true
   },
   "outputs": [],
   "source": [
    "# Import population data from population.json to dict\n",
    "import json \n",
    "population = {}\n",
    "with open('population.json') as json_file: \n",
    "    data = json.load(json_file)\n",
    "for c in data:\n",
    "    population[c['country']] = int(c['population'])"
   ]
  },
  {
   "cell_type": "code",
   "execution_count": null,
   "metadata": {
    "scrolled": true
   },
   "outputs": [],
   "source": [
    "start = ipywidgets.DatePicker(\n",
    "    description='From',\n",
    "    disabled=False,\n",
    "    value=datetime.datetime(2020, 1, 22)\n",
    ")\n",
    "end = ipywidgets.DatePicker(\n",
    "    description='Until',\n",
    "    disabled=False,\n",
    "    value=datetime.datetime.now()\n",
    ")\n",
    "\n",
    "df_percentage = df_cleaned.copy()\n",
    "\n",
    "for c in df_percentage.columns:\n",
    "    df_percentage[c]=df_percentage[c].apply(lambda x: x/population[c] if x != 0 else 0)\n",
    "\n",
    "def population_percentage_infected(s,e):\n",
    "    start_date = pd.to_datetime(start.value)\n",
    "    end_date = pd.to_datetime(end.value)\n",
    "    df_percentage.index= pd.to_datetime(df_percentage.index)\n",
    "    mask = ((df_percentage.index >= start_date) & (df_percentage.index <= end_date))\n",
    "    return df_percentage.loc[mask].iplot()\n",
    "interact(population_percentage_infected, s=start, e=end)\n",
    "\n",
    "\n",
    "#df_percentage = df_cleaned.copy()\n",
    "\n",
    "#for c in countries:\n",
    "#    df_percentage[c]=df_percentage[c].apply(lambda x: x/population[c] if x != 0 else 0)\n",
    "#def population_percentage_infected(offset):\n",
    "#    return df_percentage.iloc[slide_n_pop.value:].iplot()\n",
    "#interact(population_percentage_infected, offset=slide_n_pop)"
   ]
  },
  {
   "cell_type": "markdown",
   "metadata": {},
   "source": [
    "# ToDo\n",
    "+ Common start time at which the number of infected was greater than or equal to 100\n",
    "+ Select starting day for all graphics on top with date widget DONE\n",
    "+ implement deaths, recoverd"
   ]
  }
 ],
 "metadata": {
  "kernelspec": {
   "display_name": "Python 3",
   "language": "python",
   "name": "python3"
  },
  "language_info": {
   "codemirror_mode": {
    "name": "ipython",
    "version": 3
   },
   "file_extension": ".py",
   "mimetype": "text/x-python",
   "name": "python",
   "nbconvert_exporter": "python",
   "pygments_lexer": "ipython3",
   "version": "3.8.8"
  },
  "toc": {
   "base_numbering": 1,
   "nav_menu": {},
   "number_sections": true,
   "sideBar": true,
   "skip_h1_title": false,
   "title_cell": "Table of Contents",
   "title_sidebar": "Contents",
   "toc_cell": false,
   "toc_position": {},
   "toc_section_display": true,
   "toc_window_display": false
  }
 },
 "nbformat": 4,
 "nbformat_minor": 4
}
